{
  "nbformat": 4,
  "nbformat_minor": 0,
  "metadata": {
    "colab": {
      "name": "filter_roundabout",
      "provenance": [],
      "collapsed_sections": [],
      "authorship_tag": "ABX9TyOK/WamzGsYEYdvv9cwrjeN",
      "include_colab_link": true
    },
    "kernelspec": {
      "name": "python3",
      "display_name": "Python 3"
    },
    "language_info": {
      "name": "python"
    }
  },
  "cells": [
    {
      "cell_type": "markdown",
      "metadata": {
        "id": "view-in-github",
        "colab_type": "text"
      },
      "source": [
        "<a href=\"https://colab.research.google.com/github/vegampire/mst_rolla_network/blob/main/filter_roundabout.ipynb\" target=\"_parent\"><img src=\"https://colab.research.google.com/assets/colab-badge.svg\" alt=\"Open In Colab\"/></a>"
      ]
    },
    {
      "cell_type": "code",
      "metadata": {
        "id": "wKbW4zf9aFsN"
      },
      "source": [
        "%matplotlib inline\n",
        "import ogr\n",
        "from pandas import DataFrame"
      ],
      "execution_count": null,
      "outputs": []
    },
    {
      "cell_type": "code",
      "metadata": {
        "colab": {
          "base_uri": "https://localhost:8080/"
        },
        "id": "LzjOW1PcZ2Us",
        "outputId": "70369a02-3155-4b18-91fd-c369247fc597"
      },
      "source": [
        "driver=ogr.GetDriverByName('OSM')\n",
        "data = driver.Open('rolla.osm')\n",
        "layer = data.GetLayer('lines')\n",
        "\n",
        "features=[x for x in layer]\n",
        "print(len(features))"
      ],
      "execution_count": null,
      "outputs": [
        {
          "output_type": "stream",
          "text": [
            "2958\n"
          ],
          "name": "stdout"
        }
      ]
    },
    {
      "cell_type": "code",
      "metadata": {
        "colab": {
          "base_uri": "https://localhost:8080/"
        },
        "id": "zUF_egpIesu5",
        "outputId": "a896f0b3-ca72-47ea-8dd1-aaa1324bed22"
      },
      "source": [
        "driver"
      ],
      "execution_count": null,
      "outputs": [
        {
          "output_type": "execute_result",
          "data": {
            "text/plain": [
              "<osgeo.ogr.Driver; proxy of <Swig Object of type 'OGRDriverShadow *' at 0x7fb0e3e48180> >"
            ]
          },
          "metadata": {
            "tags": []
          },
          "execution_count": 23
        }
      ]
    },
    {
      "cell_type": "code",
      "metadata": {
        "id": "DTuCPwzdZ87J"
      },
      "source": [
        "data_list=[]\n",
        "for feature in features:\n",
        "    data=feature.ExportToJson(as_object=True)\n",
        "    id=data['id']\n",
        "    osm_id=data['properties']['osm_id']\n",
        "    geometry=data['geometry']['type'].upper()+ ' ' +'('\n",
        "    line_coordinates = ''\n",
        "    for coordinates in data['geometry']['coordinates']:\n",
        "      line_coordinates = line_coordinates + str(coordinates[0])+' '+str(coordinates[1])+','\n",
        "    line_coordinates = line_coordinates[:-1]\n",
        "    line_coordinates = line_coordinates + ')'\n",
        "    geometry = geometry+line_coordinates\n",
        "    \n",
        "    other_tags=data['properties']['other_tags']\n",
        "    if other_tags and '\"'+'junction'+'\"'+'=>'+'\"'+'roundabout'+'\"' in other_tags:\n",
        "        feat=[x for x in other_tags.split(',') if '\"'+'junction'+'\"'+'=>'+'\"'+'roundabout'+'\"' in x][0]\n",
        "        junction=feat\n",
        "    else:\n",
        "        junction=None\n",
        "    data_list.append([id,osm_id,geometry,junction])\n",
        "\n",
        "df = DataFrame (data_list,columns=['id','osm_id','geometry','junction'])\n",
        "df = df[df['junction']=='\"'+'junction'+'\"'+'=>'+'\"'+'roundabout'+'\"']"
      ],
      "execution_count": null,
      "outputs": []
    },
    {
      "cell_type": "code",
      "metadata": {
        "colab": {
          "base_uri": "https://localhost:8080/",
          "height": 266
        },
        "id": "liDy7inrs472",
        "outputId": "06ec6e39-ea4d-4731-f130-216730163488"
      },
      "source": [
        "df"
      ],
      "execution_count": null,
      "outputs": [
        {
          "output_type": "execute_result",
          "data": {
            "text/html": [
              "<div>\n",
              "<style scoped>\n",
              "    .dataframe tbody tr th:only-of-type {\n",
              "        vertical-align: middle;\n",
              "    }\n",
              "\n",
              "    .dataframe tbody tr th {\n",
              "        vertical-align: top;\n",
              "    }\n",
              "\n",
              "    .dataframe thead th {\n",
              "        text-align: right;\n",
              "    }\n",
              "</style>\n",
              "<table border=\"1\" class=\"dataframe\">\n",
              "  <thead>\n",
              "    <tr style=\"text-align: right;\">\n",
              "      <th></th>\n",
              "      <th>id</th>\n",
              "      <th>osm_id</th>\n",
              "      <th>geometry</th>\n",
              "      <th>junction</th>\n",
              "    </tr>\n",
              "  </thead>\n",
              "  <tbody>\n",
              "    <tr>\n",
              "      <th>1809</th>\n",
              "      <td>506574769</td>\n",
              "      <td>506574769</td>\n",
              "      <td>LINESTRING (-91.7827308 37.9566866,-91.7826901...</td>\n",
              "      <td>\"junction\"=&gt;\"roundabout\"</td>\n",
              "    </tr>\n",
              "    <tr>\n",
              "      <th>1813</th>\n",
              "      <td>506575142</td>\n",
              "      <td>506575142</td>\n",
              "      <td>LINESTRING (-91.7933276 37.9440966,-91.7932979...</td>\n",
              "      <td>\"junction\"=&gt;\"roundabout\"</td>\n",
              "    </tr>\n",
              "    <tr>\n",
              "      <th>1872</th>\n",
              "      <td>506592499</td>\n",
              "      <td>506592499</td>\n",
              "      <td>LINESTRING (-91.7524927 37.9591997,-91.7524499...</td>\n",
              "      <td>\"junction\"=&gt;\"roundabout\"</td>\n",
              "    </tr>\n",
              "    <tr>\n",
              "      <th>2054</th>\n",
              "      <td>507406915</td>\n",
              "      <td>507406915</td>\n",
              "      <td>LINESTRING (-91.7650635 37.925638,-91.7650862 ...</td>\n",
              "      <td>\"junction\"=&gt;\"roundabout\"</td>\n",
              "    </tr>\n",
              "    <tr>\n",
              "      <th>2363</th>\n",
              "      <td>582700170</td>\n",
              "      <td>582700170</td>\n",
              "      <td>LINESTRING (-91.7909281 37.9433274,-91.7908123...</td>\n",
              "      <td>\"junction\"=&gt;\"roundabout\"</td>\n",
              "    </tr>\n",
              "    <tr>\n",
              "      <th>2364</th>\n",
              "      <td>582700171</td>\n",
              "      <td>582700171</td>\n",
              "      <td>LINESTRING (-91.7908123 37.9433303,-91.7907465...</td>\n",
              "      <td>\"junction\"=&gt;\"roundabout\"</td>\n",
              "    </tr>\n",
              "    <tr>\n",
              "      <th>2716</th>\n",
              "      <td>727178040</td>\n",
              "      <td>727178040</td>\n",
              "      <td>LINESTRING (-91.7906896 37.9435315,-91.7907477...</td>\n",
              "      <td>\"junction\"=&gt;\"roundabout\"</td>\n",
              "    </tr>\n",
              "  </tbody>\n",
              "</table>\n",
              "</div>"
            ],
            "text/plain": [
              "             id  ...                  junction\n",
              "1809  506574769  ...  \"junction\"=>\"roundabout\"\n",
              "1813  506575142  ...  \"junction\"=>\"roundabout\"\n",
              "1872  506592499  ...  \"junction\"=>\"roundabout\"\n",
              "2054  507406915  ...  \"junction\"=>\"roundabout\"\n",
              "2363  582700170  ...  \"junction\"=>\"roundabout\"\n",
              "2364  582700171  ...  \"junction\"=>\"roundabout\"\n",
              "2716  727178040  ...  \"junction\"=>\"roundabout\"\n",
              "\n",
              "[7 rows x 4 columns]"
            ]
          },
          "metadata": {
            "tags": []
          },
          "execution_count": 25
        }
      ]
    },
    {
      "cell_type": "code",
      "metadata": {
        "id": "N1QJHy62sXda"
      },
      "source": [
        "df.to_csv('df.csv')"
      ],
      "execution_count": null,
      "outputs": []
    },
    {
      "cell_type": "code",
      "metadata": {
        "id": "WK5F24wdre7b"
      },
      "source": [
        "pip freeze > requirements.txt"
      ],
      "execution_count": null,
      "outputs": []
    },
    {
      "cell_type": "code",
      "metadata": {
        "colab": {
          "base_uri": "https://localhost:8080/"
        },
        "id": "Y6KvpAq_wVrE",
        "outputId": "a782be84-a711-4980-9379-59df885fe587"
      },
      "source": [
        "!python --version"
      ],
      "execution_count": null,
      "outputs": [
        {
          "output_type": "stream",
          "text": [
            "Python 3.7.10\n"
          ],
          "name": "stdout"
        }
      ]
    },
    {
      "cell_type": "code",
      "metadata": {
        "id": "wioyfV4xxXUl"
      },
      "source": [
        ""
      ],
      "execution_count": null,
      "outputs": []
    }
  ]
}